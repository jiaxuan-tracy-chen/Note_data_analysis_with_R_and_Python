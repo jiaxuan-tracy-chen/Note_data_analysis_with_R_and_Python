{
 "cells": [
  {
   "cell_type": "markdown",
   "id": "8d4a0572-f93b-42ae-a744-3b647c8def85",
   "metadata": {},
   "source": [
    "# WEEK 1\n"
   ]
  },
  {
   "cell_type": "markdown",
   "id": "7151a2cd-7bfd-4fd2-b0c5-65e38ad068bb",
   "metadata": {},
   "source": [
    "## 1. introduction\n",
    "\n",
    "Artificial intelligence > machine learning > data science\n",
    "\n",
    "Difference:\n",
    "* Python - general-purpose programming language\n",
    "* R - statistical-purpose programming language\n",
    "* SQL - big database\n",
    "\n",
    "tools：GitHub, Jupyter notebook, phoenix ai, stack overflow(bug求助)"
   ]
  },
  {
   "cell_type": "markdown",
   "id": "52157698-61df-4aeb-bd3c-09710bc5f32c",
   "metadata": {},
   "source": [
    "## 2. data type"
   ]
  },
  {
   "cell_type": "code",
   "execution_count": 1,
   "id": "169391a0-f455-45b2-8629-2663c5c2acb4",
   "metadata": {},
   "outputs": [
    {
     "name": "stdout",
     "output_type": "stream",
     "text": [
      "1\n",
      "one two 1\n"
     ]
    }
   ],
   "source": [
    "# print\n",
    "print(1)\n",
    "print(\"one\",\"two\",1)"
   ]
  },
  {
   "cell_type": "code",
   "execution_count": 2,
   "id": "d1160141-eb4e-44e6-804e-e8dec32254eb",
   "metadata": {},
   "outputs": [
    {
     "data": {
      "text/plain": [
       "5"
      ]
     },
     "execution_count": 2,
     "metadata": {},
     "output_type": "execute_result"
    }
   ],
   "source": [
    "# variable_name = value\n",
    "a = 5\n",
    "a #Jupyter里最后一行如果有赋值会自动print,其他不行,不要养成坏习惯"
   ]
  },
  {
   "cell_type": "code",
   "execution_count": 3,
   "id": "13bbd18e-1c11-4fb4-8234-53a54af99fc6",
   "metadata": {},
   "outputs": [
    {
     "name": "stdout",
     "output_type": "stream",
     "text": [
      "5.0\n",
      "5\n",
      "5\n",
      "<class 'int'>\n",
      "<class 'float'>\n",
      "<class 'str'>\n"
     ]
    }
   ],
   "source": [
    "# float:小数 \n",
    "# int:整数 \n",
    "# str:字符\n",
    "\n",
    "# int()直接把小数点后的砍掉，不四舍五入\n",
    "# float()转小数\n",
    "# str() 转字符\n",
    "\n",
    "print(float(a))\n",
    "print(int(a))\n",
    "print(str(a))\n",
    "\n",
    "# type() 检查类型\n",
    "\n",
    "print(type(1))\n",
    "print(type(1.0))\n",
    "print(type('1'))"
   ]
  },
  {
   "cell_type": "markdown",
   "id": "b41fdf01-f59a-49c2-9887-2d9e05c5b999",
   "metadata": {},
   "source": [
    "## 3. container type"
   ]
  },
  {
   "cell_type": "code",
   "execution_count": 4,
   "id": "96b0e08e-0a2d-419c-b00b-9843167ee5a7",
   "metadata": {},
   "outputs": [
    {
     "name": "stdout",
     "output_type": "stream",
     "text": [
      "[1.0, '2t', 3, 4, 5]\n",
      "(1.0, 2, 3, 4, 5, 6, 7, 8, 9, 10)\n"
     ]
    }
   ],
   "source": [
    "# mutable and immutable建完之后能不能改\n",
    "# list可以，tuple不可以\n",
    "\n",
    "list = [1.0,'2t',3,4,5]\n",
    "print(list)\n",
    "\n",
    "tuple = (1.0,2,3,4,5,6,7,8,9,10)\n",
    "print(tuple)"
   ]
  },
  {
   "cell_type": "code",
   "execution_count": 5,
   "id": "23549051-97a5-474f-9c26-03b46e556de9",
   "metadata": {},
   "outputs": [
    {
     "name": "stdout",
     "output_type": "stream",
     "text": [
      "2t\n",
      "2\n",
      "10 \n",
      "\n"
     ]
    }
   ],
   "source": [
    "# index - 集合中的第x+1个数\n",
    "\n",
    "print(list[1])\n",
    "print(tuple[1])\n",
    "print(tuple[-1],'\\n')# 倒数第一个"
   ]
  },
  {
   "cell_type": "code",
   "execution_count": 6,
   "id": "58285215-addb-4b26-ac36-07f90e41476c",
   "metadata": {},
   "outputs": [
    {
     "name": "stdout",
     "output_type": "stream",
     "text": [
      "(1.0, 2) \n",
      "\n",
      "(1.0, 4, 7)\n"
     ]
    }
   ],
   "source": [
    "# slice切片\n",
    "\n",
    "print(tuple[0:2],'\\n') #一般python不包括后缘,相当于输出0，1号，也就是第一第二个\n",
    "print(tuple[0:7:3])#三个位置分别是---起点:终点（不包括）:间隔多少个输出（可以是负数）"
   ]
  },
  {
   "cell_type": "code",
   "execution_count": 26,
   "id": "1ce5653f-d1b6-4bf8-b277-f93096985f75",
   "metadata": {},
   "outputs": [
    {
     "name": "stdout",
     "output_type": "stream",
     "text": [
      "[1, 2, 3, 4, 5, 6, 7, 8]\n",
      "[1, 2, 3, 4, 5, 6, 7, 8, 10]\n",
      "[1, 2, 3, 4, 5, 6, 7, 8, 10, 1, 3, 100]\n",
      "[1, 2, 6, 7, 8, 10, 1, 3, 100]\n",
      "inside\n"
     ]
    }
   ],
   "source": [
    "# 数据集合合并拆分的方法\n",
    "a = [1,2,3,4,5,6,7,8,9]\n",
    "b = [1,3,100]\n",
    "\n",
    "a.pop() # 移除末尾的一个数\n",
    "print(a)\n",
    "\n",
    "a.append(10)#增加末尾的一个元素\n",
    "print(a)\n",
    "\n",
    "a = a + b #批量增加\n",
    "print(a)\n",
    "\n",
    "del a[2:5]#批量删减\n",
    "print(a)\n",
    "\n",
    "if '1' in '1234567': # 判断某元素在不在\n",
    "    print('inside')"
   ]
  },
  {
   "cell_type": "markdown",
   "id": "7eb41f74-bf8a-4fac-80a3-503ab53832e2",
   "metadata": {},
   "source": [
    "# 4.if, elif, else"
   ]
  },
  {
   "cell_type": "code",
   "execution_count": 22,
   "id": "4dad8f67-ee9a-4e80-a9f1-b07f3d33e2b2",
   "metadata": {},
   "outputs": [
    {
     "name": "stdout",
     "output_type": "stream",
     "text": [
      "The number is positive.\n"
     ]
    }
   ],
   "source": [
    "# 全部首行对齐，带：\n",
    "num =1\n",
    "\n",
    "if num > 0:\n",
    "    print(\"The number is positive.\")\n",
    "elif num < 0:\n",
    "    print(\"The number is negative.\")\n",
    "else:\n",
    "    print(\"The number is zero.\")"
   ]
  },
  {
   "cell_type": "markdown",
   "id": "9768b859-5250-4a8d-97f4-464a7eac8760",
   "metadata": {},
   "source": [
    "# 5. Def"
   ]
  },
  {
   "cell_type": "code",
   "execution_count": null,
   "id": "aebdba9f-c85c-4df3-80bc-2e9a1a928ef8",
   "metadata": {},
   "outputs": [],
   "source": [
    "# def如果不计算可以没有return直接print\n",
    "def add_numbers(a, b):\n",
    "    result = a + b\n",
    "    return result"
   ]
  }
 ],
 "metadata": {
  "kernelspec": {
   "display_name": "Python 3 (ipykernel)",
   "language": "python",
   "name": "python3"
  },
  "language_info": {
   "codemirror_mode": {
    "name": "ipython",
    "version": 3
   },
   "file_extension": ".py",
   "mimetype": "text/x-python",
   "name": "python",
   "nbconvert_exporter": "python",
   "pygments_lexer": "ipython3",
   "version": "3.11.9"
  }
 },
 "nbformat": 4,
 "nbformat_minor": 5
}
